{
 "cells": [
  {
   "cell_type": "code",
   "execution_count": 1,
   "id": "64a3cc7f",
   "metadata": {},
   "outputs": [],
   "source": [
    "import pandas as pd"
   ]
  },
  {
   "cell_type": "markdown",
   "id": "a9a9e90b",
   "metadata": {},
   "source": [
    "## 🗺️ Functions to generate placement strings\n",
    " \n",
    "Example\n",
    "> `create_land { number_of_tiles 0 base_size 3 land_position 93 50 terrain_type GRASS3 base_elevation 0 }`"
   ]
  },
  {
   "cell_type": "code",
   "execution_count": 57,
   "id": "6dd62b74",
   "metadata": {},
   "outputs": [
    {
     "data": {
      "text/plain": [
       "'create_land { number_of_tiles 0 base_size 3 land_position 93 50 terrain_type TREES base_elevation 0 }\\n'"
      ]
     },
     "execution_count": 57,
     "metadata": {},
     "output_type": "execute_result"
    }
   ],
   "source": [
    "terrain = \"TREES\"\n",
    "x = 93\n",
    "y = 50\n",
    "\n",
    "def create_land(x, y, terrain):\n",
    "    return f\"\"\"create_land {{ number_of_tiles 0 base_size 3 land_position {x} {y} terrain_type {terrain} base_elevation 0 }}\\n\"\"\"\n",
    "\n",
    "create_land(x, y, terrain)"
   ]
  },
  {
   "cell_type": "code",
   "execution_count": 59,
   "id": "d103fb5d",
   "metadata": {},
   "outputs": [
    {
     "name": "stdout",
     "output_type": "stream",
     "text": [
      "create_land { number_of_tiles 0 base_size 3 land_position 40 50 terrain_type TREES base_elevation 0 }\n",
      "create_land { number_of_tiles 0 base_size 3 land_position 41 50 terrain_type TREES base_elevation 0 }\n",
      "create_land { number_of_tiles 0 base_size 3 land_position 42 50 terrain_type TREES base_elevation 0 }\n",
      "create_land { number_of_tiles 0 base_size 3 land_position 43 50 terrain_type TREES base_elevation 0 }\n",
      "create_land { number_of_tiles 0 base_size 3 land_position 44 50 terrain_type TREES base_elevation 0 }\n",
      "create_land { number_of_tiles 0 base_size 3 land_position 45 50 terrain_type TREES base_elevation 0 }\n",
      "create_land { number_of_tiles 0 base_size 3 land_position 46 50 terrain_type TREES base_elevation 0 }\n",
      "create_land { number_of_tiles 0 base_size 3 land_position 47 50 terrain_type TREES base_elevation 0 }\n",
      "create_land { number_of_tiles 0 base_size 3 land_position 48 50 terrain_type TREES base_elevation 0 }\n",
      "create_land { number_of_tiles 0 base_size 3 land_position 49 50 terrain_type TREES base_elevation 0 }\n",
      "create_land { number_of_tiles 0 base_size 3 land_position 50 50 terrain_type TREES base_elevation 0 }\n",
      "create_land { number_of_tiles 0 base_size 3 land_position 51 50 terrain_type TREES base_elevation 0 }\n",
      "create_land { number_of_tiles 0 base_size 3 land_position 52 50 terrain_type TREES base_elevation 0 }\n",
      "create_land { number_of_tiles 0 base_size 3 land_position 53 50 terrain_type TREES base_elevation 0 }\n",
      "create_land { number_of_tiles 0 base_size 3 land_position 54 50 terrain_type TREES base_elevation 0 }\n",
      "create_land { number_of_tiles 0 base_size 3 land_position 55 50 terrain_type TREES base_elevation 0 }\n",
      "create_land { number_of_tiles 0 base_size 3 land_position 56 50 terrain_type TREES base_elevation 0 }\n",
      "create_land { number_of_tiles 0 base_size 3 land_position 57 50 terrain_type TREES base_elevation 0 }\n",
      "create_land { number_of_tiles 0 base_size 3 land_position 58 50 terrain_type TREES base_elevation 0 }\n",
      "create_land { number_of_tiles 0 base_size 3 land_position 59 50 terrain_type TREES base_elevation 0 }\n",
      "\n"
     ]
    }
   ],
   "source": [
    "res = \"\".join(create_land(x, y, terrain=\"TREES\") for x in range(40, 60, 1))\n",
    "print(res)"
   ]
  },
  {
   "cell_type": "code",
   "execution_count": 63,
   "id": "641096f0",
   "metadata": {},
   "outputs": [
    {
     "ename": "ModuleNotFoundError",
     "evalue": "No module named 'fastai'",
     "output_type": "error",
     "traceback": [
      "\u001b[0;31m---------------------------------------------------------------------------\u001b[0m",
      "\u001b[0;31mModuleNotFoundError\u001b[0m                       Traceback (most recent call last)",
      "Input \u001b[0;32mIn [63]\u001b[0m, in \u001b[0;36m<cell line: 2>\u001b[0;34m()\u001b[0m\n\u001b[1;32m      1\u001b[0m \u001b[38;5;28;01mfrom\u001b[39;00m \u001b[38;5;21;01mipywidgets\u001b[39;00m \u001b[38;5;28;01mimport\u001b[39;00m interact\n\u001b[0;32m----> 2\u001b[0m \u001b[38;5;28;01mfrom\u001b[39;00m \u001b[38;5;21;01mfastai\u001b[39;00m\u001b[38;5;21;01m.\u001b[39;00m\u001b[38;5;21;01mbasics\u001b[39;00m \u001b[38;5;28;01mimport\u001b[39;00m \u001b[38;5;241m*\u001b[39m\n\u001b[1;32m      4\u001b[0m plt\u001b[38;5;241m.\u001b[39mrc(\u001b[38;5;124m'\u001b[39m\u001b[38;5;124mfigure\u001b[39m\u001b[38;5;124m'\u001b[39m, dpi\u001b[38;5;241m=\u001b[39m\u001b[38;5;241m90\u001b[39m)\n\u001b[1;32m      6\u001b[0m \u001b[38;5;28;01mdef\u001b[39;00m \u001b[38;5;21mplot_function\u001b[39m(f, title\u001b[38;5;241m=\u001b[39m\u001b[38;5;28;01mNone\u001b[39;00m, \u001b[38;5;28mmin\u001b[39m\u001b[38;5;241m=\u001b[39m\u001b[38;5;241m-\u001b[39m\u001b[38;5;241m2.1\u001b[39m, \u001b[38;5;28mmax\u001b[39m\u001b[38;5;241m=\u001b[39m\u001b[38;5;241m2.1\u001b[39m, color\u001b[38;5;241m=\u001b[39m\u001b[38;5;124m'\u001b[39m\u001b[38;5;124mr\u001b[39m\u001b[38;5;124m'\u001b[39m, ylim\u001b[38;5;241m=\u001b[39m\u001b[38;5;28;01mNone\u001b[39;00m):\n",
      "\u001b[0;31mModuleNotFoundError\u001b[0m: No module named 'fastai'"
     ]
    }
   ],
   "source": [
    "from ipywidgets import interact\n",
    "from fastai.basics import *\n",
    "\n",
    "plt.rc('figure', dpi=90)\n",
    "\n",
    "def plot_function(f, title=None, min=-2.1, max=2.1, color='r', ylim=None):\n",
    "    x = torch.linspace(min,max, 100)[:,None]\n",
    "    if ylim: plt.ylim(ylim)\n",
    "    plt.plot(x, f(x), color)\n",
    "    if title is not None: plt.title(title)"
   ]
  },
  {
   "cell_type": "code",
   "execution_count": null,
   "id": "437fd60a",
   "metadata": {},
   "outputs": [],
   "source": [
    "def f(x): return 3*x**2 + 2*x + 1\n",
    "\n",
    "plot_function(f, \"$3x^2 + 2x + 1$\")"
   ]
  },
  {
   "cell_type": "code",
   "execution_count": null,
   "id": "a1a95b60",
   "metadata": {},
   "outputs": [
    {
     "name": "stdout",
     "output_type": "stream",
     "text": [
      "Collecting fastai\n",
      "  Downloading fastai-2.7.3-py3-none-any.whl (213 kB)\n",
      "\u001b[K     |████████████████████████████████| 213 kB 3.8 MB/s eta 0:00:01\n",
      "\u001b[?25hRequirement already satisfied: packaging in /mnt/d/python/wsl/lib/python3.9/site-packages (from fastai) (21.3)\n",
      "Collecting torchvision>=0.8.2\n",
      "  Downloading torchvision-0.12.0-cp39-cp39-manylinux1_x86_64.whl (21.0 MB)\n",
      "\u001b[K     |████████████████████████████████| 21.0 MB 5.9 MB/s eta 0:00:01\n",
      "\u001b[?25hCollecting spacy<4\n",
      "  Downloading spacy-3.3.1-cp39-cp39-manylinux_2_17_x86_64.manylinux2014_x86_64.whl (6.3 MB)\n",
      "\u001b[K     |████████████████████████████████| 6.3 MB 2.6 MB/s eta 0:00:01\n",
      "\u001b[?25hCollecting torch<1.12,>=1.7.0\n",
      "  Downloading torch-1.11.0-cp39-cp39-manylinux1_x86_64.whl (750.6 MB)\n",
      "\u001b[K     |████████████████████████████████| 750.6 MB 2.4 kB/s eta 0:00:014\n",
      "\u001b[?25hCollecting fastcore<1.5,>=1.4.5\n",
      "  Downloading fastcore-1.4.5-py3-none-any.whl (61 kB)\n",
      "\u001b[K     |████████████████████████████████| 61 kB 3.2 MB/s eta 0:00:01\n",
      "\u001b[?25hCollecting matplotlib\n",
      "  Downloading matplotlib-3.5.2-cp39-cp39-manylinux_2_5_x86_64.manylinux1_x86_64.whl (11.2 MB)\n",
      "\u001b[K     |████████████████████████████████| 11.2 MB 2.4 MB/s eta 0:00:01\n",
      "\u001b[?25hRequirement already satisfied: pandas in /mnt/d/python/wsl/lib/python3.9/site-packages (from fastai) (1.4.2)\n",
      "Requirement already satisfied: pillow>6.0.0 in /mnt/d/python/wsl/lib/python3.9/site-packages (from fastai) (9.1.1)\n",
      "Collecting scikit-learn\n",
      "  Downloading scikit_learn-1.1.1-cp39-cp39-manylinux_2_17_x86_64.manylinux2014_x86_64.whl (30.8 MB)\n",
      "\u001b[K     |████████████████████████████████| 30.8 MB 3.5 MB/s eta 0:00:01███████████████████████▉      | 24.9 MB 5.1 MB/s eta 0:00:02\n",
      "\u001b[?25hCollecting pyyaml\n",
      "  Using cached PyYAML-6.0-cp39-cp39-manylinux_2_5_x86_64.manylinux1_x86_64.manylinux_2_12_x86_64.manylinux2010_x86_64.whl (661 kB)\n",
      "Collecting scipy\n",
      "  Downloading scipy-1.8.1-cp39-cp39-manylinux_2_17_x86_64.manylinux2014_x86_64.whl (42.2 MB)\n",
      "\u001b[K     |████████████████████████████████| 42.2 MB 15 kB/s  eta 0:00:01\n",
      "\u001b[?25hCollecting fastdownload<2,>=0.0.5\n",
      "  Downloading fastdownload-0.0.6-py3-none-any.whl (12 kB)\n",
      "Collecting fastprogress>=0.2.4\n",
      "  Downloading fastprogress-1.0.2-py3-none-any.whl (12 kB)\n",
      "Requirement already satisfied: pip in /mnt/d/python/wsl/lib/python3.9/site-packages (from fastai) (21.1.3)\n",
      "Requirement already satisfied: requests in /mnt/d/python/wsl/lib/python3.9/site-packages (from fastai) (2.25.1)\n",
      "Collecting spacy-loggers<2.0.0,>=1.0.0\n",
      "  Downloading spacy_loggers-1.0.2-py3-none-any.whl (7.2 kB)\n",
      "Collecting cymem<2.1.0,>=2.0.2\n",
      "  Downloading cymem-2.0.6-cp39-cp39-manylinux_2_17_x86_64.manylinux2014_x86_64.whl (35 kB)\n",
      "Requirement already satisfied: numpy>=1.15.0 in /mnt/d/python/wsl/lib/python3.9/site-packages (from spacy<4->fastai) (1.22.4)\n",
      "Collecting typer<0.5.0,>=0.3.0\n",
      "  Downloading typer-0.4.1-py3-none-any.whl (27 kB)\n",
      "Collecting langcodes<4.0.0,>=3.2.0\n",
      "  Downloading langcodes-3.3.0-py3-none-any.whl (181 kB)\n",
      "\u001b[K     |████████████████████████████████| 181 kB 5.2 MB/s eta 0:00:01\n",
      "\u001b[?25hCollecting spacy-legacy<3.1.0,>=3.0.9\n",
      "  Downloading spacy_legacy-3.0.9-py2.py3-none-any.whl (20 kB)\n",
      "Collecting thinc<8.1.0,>=8.0.14\n",
      "  Downloading thinc-8.0.17-cp39-cp39-manylinux_2_17_x86_64.manylinux2014_x86_64.whl (668 kB)\n",
      "\u001b[K     |████████████████████████████████| 668 kB 5.1 MB/s eta 0:00:01\n",
      "\u001b[?25hCollecting pydantic!=1.8,!=1.8.1,<1.9.0,>=1.7.4\n",
      "  Downloading pydantic-1.8.2-cp39-cp39-manylinux2014_x86_64.whl (11.3 MB)\n",
      "\u001b[K     |████████████████████████████████| 11.3 MB 178 kB/s eta 0:00:01\n",
      "\u001b[?25hCollecting blis<0.8.0,>=0.4.0\n",
      "  Downloading blis-0.7.7-cp39-cp39-manylinux_2_17_x86_64.manylinux2014_x86_64.whl (9.9 MB)\n",
      "\u001b[K     |████████████████████████████████| 9.9 MB 688 kB/s eta 0:00:01\n",
      "\u001b[?25hRequirement already satisfied: jinja2 in /mnt/d/python/wsl/lib/python3.9/site-packages (from spacy<4->fastai) (3.1.2)\n",
      "Collecting catalogue<2.1.0,>=2.0.6\n",
      "  Downloading catalogue-2.0.7-py3-none-any.whl (17 kB)\n",
      "Collecting preshed<3.1.0,>=3.0.2\n",
      "  Downloading preshed-3.0.6-cp39-cp39-manylinux_2_5_x86_64.manylinux1_x86_64.manylinux_2_17_x86_64.manylinux2014_x86_64.whl (128 kB)\n",
      "\u001b[K     |████████████████████████████████| 128 kB 1.7 MB/s eta 0:00:01\n",
      "\u001b[?25hCollecting murmurhash<1.1.0,>=0.28.0\n",
      "  Downloading murmurhash-1.0.7-cp39-cp39-manylinux_2_5_x86_64.manylinux1_x86_64.manylinux_2_17_x86_64.manylinux2014_x86_64.whl (21 kB)\n",
      "Requirement already satisfied: tqdm<5.0.0,>=4.38.0 in /mnt/d/python/wsl/lib/python3.9/site-packages (from spacy<4->fastai) (4.61.2)\n",
      "Collecting wasabi<1.1.0,>=0.9.1\n",
      "  Downloading wasabi-0.9.1-py3-none-any.whl (26 kB)\n",
      "Collecting pathy>=0.3.5\n",
      "  Downloading pathy-0.6.1-py3-none-any.whl (42 kB)\n",
      "\u001b[K     |████████████████████████████████| 42 kB 1.3 MB/s eta 0:00:011\n",
      "\u001b[?25hRequirement already satisfied: setuptools in /mnt/d/python/wsl/lib/python3.9/site-packages (from spacy<4->fastai) (52.0.0.post20210125)\n",
      "Collecting srsly<3.0.0,>=2.4.3\n",
      "  Downloading srsly-2.4.3-cp39-cp39-manylinux_2_17_x86_64.manylinux2014_x86_64.whl (457 kB)\n",
      "\u001b[K     |████████████████████████████████| 457 kB 3.1 MB/s eta 0:00:01\n",
      "\u001b[?25hRequirement already satisfied: pyparsing!=3.0.5,>=2.0.2 in /mnt/d/python/wsl/lib/python3.9/site-packages (from packaging->fastai) (3.0.9)\n",
      "Collecting smart-open<6.0.0,>=5.0.0\n",
      "  Downloading smart_open-5.2.1-py3-none-any.whl (58 kB)\n",
      "\u001b[K     |████████████████████████████████| 58 kB 2.8 MB/s eta 0:00:01\n",
      "\u001b[?25hRequirement already satisfied: typing-extensions>=3.7.4.3 in /mnt/d/python/wsl/lib/python3.9/site-packages (from pydantic!=1.8,!=1.8.1,<1.9.0,>=1.7.4->spacy<4->fastai) (4.2.0)\n",
      "Requirement already satisfied: urllib3<1.27,>=1.21.1 in /mnt/d/python/wsl/lib/python3.9/site-packages (from requests->fastai) (1.26.6)\n",
      "Requirement already satisfied: chardet<5,>=3.0.2 in /mnt/d/python/wsl/lib/python3.9/site-packages (from requests->fastai) (4.0.0)\n",
      "Requirement already satisfied: idna<3,>=2.5 in /mnt/d/python/wsl/lib/python3.9/site-packages (from requests->fastai) (2.10)\n",
      "Requirement already satisfied: certifi>=2017.4.17 in /mnt/d/python/wsl/lib/python3.9/site-packages (from requests->fastai) (2021.5.30)\n",
      "Requirement already satisfied: click<9.0.0,>=7.1.1 in /mnt/d/python/wsl/lib/python3.9/site-packages (from typer<0.5.0,>=0.3.0->spacy<4->fastai) (8.1.3)\n",
      "Requirement already satisfied: MarkupSafe>=2.0 in /mnt/d/python/wsl/lib/python3.9/site-packages (from jinja2->spacy<4->fastai) (2.1.1)\n",
      "Collecting kiwisolver>=1.0.1\n",
      "  Downloading kiwisolver-1.4.3-cp39-cp39-manylinux_2_12_x86_64.manylinux2010_x86_64.whl (1.6 MB)\n",
      "\u001b[K     |████████████████████████████████| 1.6 MB 4.0 MB/s eta 0:00:01\n",
      "\u001b[?25hCollecting fonttools>=4.22.0\n",
      "  Downloading fonttools-4.33.3-py3-none-any.whl (930 kB)\n",
      "\u001b[K     |████████████████████████████████| 930 kB 4.6 MB/s eta 0:00:01\n",
      "\u001b[?25hCollecting cycler>=0.10\n",
      "  Downloading cycler-0.11.0-py3-none-any.whl (6.4 kB)\n",
      "Requirement already satisfied: python-dateutil>=2.7 in /mnt/d/python/wsl/lib/python3.9/site-packages (from matplotlib->fastai) (2.8.2)\n",
      "Requirement already satisfied: six>=1.5 in /mnt/d/python/wsl/lib/python3.9/site-packages (from python-dateutil>=2.7->matplotlib->fastai) (1.16.0)\n",
      "Requirement already satisfied: pytz>=2020.1 in /mnt/d/python/wsl/lib/python3.9/site-packages (from pandas->fastai) (2022.1)\n",
      "Collecting threadpoolctl>=2.0.0\n",
      "  Downloading threadpoolctl-3.1.0-py3-none-any.whl (14 kB)\n",
      "Collecting joblib>=1.0.0\n",
      "  Downloading joblib-1.1.0-py2.py3-none-any.whl (306 kB)\n",
      "\u001b[K     |████████████████████████████████| 306 kB 3.2 MB/s eta 0:00:01\n",
      "\u001b[?25hInstalling collected packages: murmurhash, cymem, catalogue, wasabi, typer, srsly, smart-open, pydantic, preshed, blis, torch, threadpoolctl, thinc, spacy-loggers, spacy-legacy, scipy, pathy, langcodes, kiwisolver, joblib, fonttools, fastprogress, fastcore, cycler, torchvision, spacy, scikit-learn, pyyaml, matplotlib, fastdownload, fastai\n"
     ]
    }
   ],
   "source": [
    "!pip install fastai"
   ]
  },
  {
   "cell_type": "code",
   "execution_count": null,
   "id": "37a7719b",
   "metadata": {},
   "outputs": [],
   "source": []
  }
 ],
 "metadata": {
  "kernelspec": {
   "display_name": "Python 3 (ipykernel)",
   "language": "python",
   "name": "python3"
  },
  "language_info": {
   "codemirror_mode": {
    "name": "ipython",
    "version": 3
   },
   "file_extension": ".py",
   "mimetype": "text/x-python",
   "name": "python",
   "nbconvert_exporter": "python",
   "pygments_lexer": "ipython3",
   "version": "3.9.5"
  }
 },
 "nbformat": 4,
 "nbformat_minor": 5
}
