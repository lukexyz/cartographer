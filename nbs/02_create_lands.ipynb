{
 "cells": [
  {
   "cell_type": "code",
   "execution_count": 1,
   "id": "64a3cc7f",
   "metadata": {},
   "outputs": [],
   "source": [
    "import pandas as pd"
   ]
  },
  {
   "cell_type": "markdown",
   "id": "a9a9e90b",
   "metadata": {},
   "source": [
    "## 🗺️ Functions to generate placement strings\n",
    " \n",
    "Example\n",
    "> `create_land { number_of_tiles 0 base_size 3 land_position 93 50 terrain_type GRASS3 base_elevation 0 }`"
   ]
  },
  {
   "cell_type": "code",
   "execution_count": 57,
   "id": "6dd62b74",
   "metadata": {},
   "outputs": [
    {
     "data": {
      "text/plain": [
       "'create_land { number_of_tiles 0 base_size 3 land_position 93 50 terrain_type TREES base_elevation 0 }\\n'"
      ]
     },
     "execution_count": 57,
     "metadata": {},
     "output_type": "execute_result"
    }
   ],
   "source": [
    "terrain = \"TREES\"\n",
    "x = 93\n",
    "y = 50\n",
    "\n",
    "def create_land(x, y, terrain):\n",
    "    return f\"\"\"create_land {{ number_of_tiles 0 base_size 3 land_position {x} {y} terrain_type {terrain} base_elevation 0 }}\\n\"\"\"\n",
    "\n",
    "create_land(x, y, terrain)"
   ]
  },
  {
   "cell_type": "code",
   "execution_count": 59,
   "id": "d103fb5d",
   "metadata": {},
   "outputs": [
    {
     "name": "stdout",
     "output_type": "stream",
     "text": [
      "create_land { number_of_tiles 0 base_size 3 land_position 40 50 terrain_type TREES base_elevation 0 }\n",
      "create_land { number_of_tiles 0 base_size 3 land_position 41 50 terrain_type TREES base_elevation 0 }\n",
      "create_land { number_of_tiles 0 base_size 3 land_position 42 50 terrain_type TREES base_elevation 0 }\n",
      "create_land { number_of_tiles 0 base_size 3 land_position 43 50 terrain_type TREES base_elevation 0 }\n",
      "create_land { number_of_tiles 0 base_size 3 land_position 44 50 terrain_type TREES base_elevation 0 }\n",
      "create_land { number_of_tiles 0 base_size 3 land_position 45 50 terrain_type TREES base_elevation 0 }\n",
      "create_land { number_of_tiles 0 base_size 3 land_position 46 50 terrain_type TREES base_elevation 0 }\n",
      "create_land { number_of_tiles 0 base_size 3 land_position 47 50 terrain_type TREES base_elevation 0 }\n",
      "create_land { number_of_tiles 0 base_size 3 land_position 48 50 terrain_type TREES base_elevation 0 }\n",
      "create_land { number_of_tiles 0 base_size 3 land_position 49 50 terrain_type TREES base_elevation 0 }\n",
      "create_land { number_of_tiles 0 base_size 3 land_position 50 50 terrain_type TREES base_elevation 0 }\n",
      "create_land { number_of_tiles 0 base_size 3 land_position 51 50 terrain_type TREES base_elevation 0 }\n",
      "create_land { number_of_tiles 0 base_size 3 land_position 52 50 terrain_type TREES base_elevation 0 }\n",
      "create_land { number_of_tiles 0 base_size 3 land_position 53 50 terrain_type TREES base_elevation 0 }\n",
      "create_land { number_of_tiles 0 base_size 3 land_position 54 50 terrain_type TREES base_elevation 0 }\n",
      "create_land { number_of_tiles 0 base_size 3 land_position 55 50 terrain_type TREES base_elevation 0 }\n",
      "create_land { number_of_tiles 0 base_size 3 land_position 56 50 terrain_type TREES base_elevation 0 }\n",
      "create_land { number_of_tiles 0 base_size 3 land_position 57 50 terrain_type TREES base_elevation 0 }\n",
      "create_land { number_of_tiles 0 base_size 3 land_position 58 50 terrain_type TREES base_elevation 0 }\n",
      "create_land { number_of_tiles 0 base_size 3 land_position 59 50 terrain_type TREES base_elevation 0 }\n",
      "\n"
     ]
    }
   ],
   "source": [
    "res = \"\".join(create_land(x, y, terrain=\"TREES\") for x in range(40, 60, 1))\n",
    "print(res)"
   ]
  },
  {
   "cell_type": "code",
   "execution_count": null,
   "id": "a6d7b360",
   "metadata": {},
   "outputs": [],
   "source": []
  }
 ],
 "metadata": {
  "kernelspec": {
   "display_name": "Python 3 (ipykernel)",
   "language": "python",
   "name": "python3"
  },
  "language_info": {
   "codemirror_mode": {
    "name": "ipython",
    "version": 3
   },
   "file_extension": ".py",
   "mimetype": "text/x-python",
   "name": "python",
   "nbconvert_exporter": "python",
   "pygments_lexer": "ipython3",
   "version": "3.9.5"
  }
 },
 "nbformat": 4,
 "nbformat_minor": 5
}
